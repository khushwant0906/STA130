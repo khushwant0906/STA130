{
 "cells": [
  {
   "cell_type": "markdown",
   "id": "3c3c8092",
   "metadata": {},
   "source": [
    "<h4>Research question 1: </h4><br>\n",
    "<h2>Does the frequency of physical intimacy correlate to a feeling of social rejection or acceptence?</h2>"
   ]
  },
  {
   "cell_type": "markdown",
   "id": "31801161",
   "metadata": {},
   "source": [
    "<h4>Variables:</h4><br>\n",
    "To test this question, I will be using the variables \"CONNECTION_activities_hug_p3m\" and \"CONNECTION_activities_kissed_p3m\" to see if they correlate to the outcome variable \"LONELY_dejong_emotional_social_loneliness_scale_rejected\". I am choosing these variables because hugs and kisses are acts of physical intimacy and social rejection is the outcome I am trying to correlate it to. I will use bar plots to visualize the data and see if more intimacy results in lower feelings of rejection and the converse."
   ]
  },
  {
   "cell_type": "markdown",
   "id": "16cd84bc",
   "metadata": {},
   "source": [
    "<h4>Analysis:</h4><br>\n",
    "To analyze this, I would use a chi square test for hypothesis testing due to the nature of the variables being categorical and binary. The resulting P value would be used to either reject or fail to reject the null hypothesis, which in this case would be that there is no significant association between the hugs and kisses variables and the social rejection variable or that there is a significant association."
   ]
  },
  {
   "cell_type": "markdown",
   "id": "b46aeccb",
   "metadata": {},
   "source": [
    "<h4>Hypothesis:</h4><br>\n",
    "If there is a significant association between the variables, we could safely assume that any visible patterns between the frequency of hugs and kisses and whether or not they feel socially accepted are true; same applies to the converse."
   ]
  },
  {
   "cell_type": "markdown",
   "id": "d72da675",
   "metadata": {},
   "source": [
    "<h4>Research question 2: </h4><br>\n",
    "<h2>Does self reported physical health correlate to self reported mental health?</h2>"
   ]
  },
  {
   "cell_type": "markdown",
   "id": "72da0f30",
   "metadata": {},
   "source": [
    "<h4>Variables:</h4><br>\n",
    "To test this question, I will be using the variable \"WELLNESS_self_rated_physical_health\" to see if it correlates to the outcome variable \"WELLNESS_self_rated_mental_health\". I am choosing these variables because I believe self reported physical health is more of an indicator of if we feel physically well rather than if one is factually in good health, and same goes for the self reported mental health variable. I will use bar plots to visualize the data and see if feeling physically well/unwell correlates to feeling mentally well/unwell and the converse."
   ]
  },
  {
   "cell_type": "markdown",
   "id": "fc35f9a7",
   "metadata": {},
   "source": [
    "<h4>Analysis:</h4><br>\n",
    "To analyze this, I would use a chi square test for hypothesis testing due to the nature of the variables being categorical. The resulting P value would be used to either reject or fail to reject the null hypothesis, which in this case would be that there is no significant association between the physical health variable and the mental health variable or that there is a significant association."
   ]
  },
  {
   "cell_type": "markdown",
   "id": "12e8f79d",
   "metadata": {},
   "source": [
    "<h4>Hypothesis:</h4><br>\n",
    "If there is a significant association between the variables, we could safely assume that any visible patterns of people feeling more/less physical well reporting to also feel more/less mentally well are true."
   ]
  },
  {
   "cell_type": "markdown",
   "id": "7c17c759",
   "metadata": {},
   "source": [
    "<h4>Research question 3: </h4><br>\n",
    "<h2>Does feelings of isolation correlate to how trusting one is?</h2>"
   ]
  },
  {
   "cell_type": "markdown",
   "id": "60f284c7",
   "metadata": {},
   "source": [
    "<h4>Variables:</h4><br>\n",
    "To test this question, I will be using the variable \"LONELY_dejong_emotional_social_loneliness_scale_trust\" to see if it correlates to the outcome variable \"LONELY_ucla_loneliness_scale_isolated\". I am choosing these variables because with these variables we can see how both how isolated one feels and how trusting they are based on the amount of people they can trust, less people means less trusting, more people means more trusting. I will use bar plots to visualize the data and see how lonely the surveyed feel based on how many people they trust and see if there are any patterns."
   ]
  },
  {
   "cell_type": "markdown",
   "id": "68dc4eac",
   "metadata": {},
   "source": [
    "<h4>Analysis:</h4><br>\n",
    "To analyze this, I would use a chi square test for hypothesis testing due to the nature of the variables being categorical. The resulting P value would be used to either reject or fail to reject the null hypothesis, which in this case would be that there is no significant association between the trust variable and the loneliness variable or that there is a significant association."
   ]
  },
  {
   "cell_type": "markdown",
   "id": "aaaea031",
   "metadata": {},
   "source": [
    "<h4>Hypothesis:</h4><br>\n",
    "If there is a significant association between the variables, we could safely assume that any visible patterns of people feeling more/less isolated reporting to also be more/less trusting are true."
   ]
  }
 ],
 "metadata": {
  "kernelspec": {
   "display_name": "Python 3 (ipykernel)",
   "language": "python",
   "name": "python3"
  },
  "language_info": {
   "codemirror_mode": {
    "name": "ipython",
    "version": 3
   },
   "file_extension": ".py",
   "mimetype": "text/x-python",
   "name": "python",
   "nbconvert_exporter": "python",
   "pygments_lexer": "ipython3",
   "version": "3.11.6"
  }
 },
 "nbformat": 4,
 "nbformat_minor": 5
}
