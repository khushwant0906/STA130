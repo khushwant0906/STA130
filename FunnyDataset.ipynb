{
 "cells": [
  {
   "cell_type": "code",
   "execution_count": 3,
   "id": "9febaf73",
   "metadata": {},
   "outputs": [
    {
     "name": "stdout",
     "output_type": "stream",
     "text": [
      "Here is the amusing animal superpowers dataset with missing values:\n",
      "              Animal              Superpower  \\\n",
      "0         Flying Pig                  Flight   \n",
      "1  Invisible Giraffe            Invisibility   \n",
      "2     Laser-eyed Cat            Laser vision   \n",
      "3   Dancing Elephant  Incredible dance moves   \n",
      "4               None             Time travel   \n",
      "\n",
      "                                        Origin Story  Strength Level  \n",
      "0                        Fell into a vat of Red Bull           900.0  \n",
      "1                  Bitten by a radioactive chameleon             NaN  \n",
      "2  Discovered secret powers after staring at the sun           500.0  \n",
      "3                         Found ancient ballet shoes             NaN  \n",
      "4                                               None          1000.0  \n",
      "\n",
      "Missing data in each column:\n",
      "Animal            1\n",
      "Superpower        0\n",
      "Origin Story      2\n",
      "Strength Level    2\n",
      "dtype: int64\n",
      "\n",
      "Here is the cleaned amusing animal superpowers dataset:\n",
      "              Animal              Superpower  \\\n",
      "0         Flying Pig                  Flight   \n",
      "1  Invisible Giraffe            Invisibility   \n",
      "2     Laser-eyed Cat            Laser vision   \n",
      "3   Dancing Elephant  Incredible dance moves   \n",
      "4     Unknown Animal             Time travel   \n",
      "\n",
      "                                        Origin Story  Strength Level  \n",
      "0                        Fell into a vat of Red Bull           900.0  \n",
      "1                  Bitten by a radioactive chameleon           812.5  \n",
      "2  Discovered secret powers after staring at the sun           500.0  \n",
      "3                         Found ancient ballet shoes           812.5  \n",
      "4                                     Unknown Origin          1000.0  \n"
     ]
    }
   ],
   "source": [
    "# Step 1: Import necessary libraries\n",
    "import pandas as pd\n",
    "\n",
    "# Step 2: Load the dataset\n",
    "# Since this is a mock example, we'll create the dataset inline as a DataFrame\n",
    "data = {\n",
    "    'Animal': ['Flying Pig', 'Invisible Giraffe', 'Laser-eyed Cat', 'Dancing Elephant', None, 'Ninja Turtle'],\n",
    "    'Superpower': ['Flight', 'Invisibility', 'Laser vision', 'Incredible dance moves', 'Time travel', 'Master of stealth'],\n",
    "    'Origin Story': ['Fell into a vat of Red Bull', 'Bitten by a radioactive chameleon', \n",
    "                     'Discovered secret powers after staring at the sun', \n",
    "                     'Found ancient ballet shoes', None, None],\n",
    "    'Strength Level': [900, None, 500, None, 1000, 850]\n",
    "}\n",
    "\n",
    "# Step 3: Convert the data into a DataFrame\n",
    "animal_superpowers = pd.DataFrame(data)\n",
    "\n",
    "# Step 4: Display the first few rows to see the funny data with missing values\n",
    "print(\"Here is the amusing animal superpowers dataset with missing values:\")\n",
    "print(animal_superpowers.head())\n",
    "\n",
    "# Step 5: Check for missing data\n",
    "print(\"\\nMissing data in each column:\")\n",
    "missing_data = animal_superpowers.isnull().sum()\n",
    "print(missing_data)\n",
    "\n",
    "# Step 6: Handle missing data\n",
    "# Fill missing 'Animal' with 'Unknown Animal'\n",
    "animal_superpowers['Animal'].fillna('Unknown Animal', inplace=True)\n",
    "\n",
    "# Fill missing 'Origin Story' with 'Unknown Origin'\n",
    "animal_superpowers['Origin Story'].fillna('Unknown Origin', inplace=True)\n",
    "\n",
    "# Fill missing 'Strength Level' with the mean strength level\n",
    "mean_strength = animal_superpowers['Strength Level'].mean()\n",
    "animal_superpowers['Strength Level'].fillna(mean_strength, inplace=True)\n",
    "\n",
    "# Step 7: Display the cleaned dataset\n",
    "print(\"\\nHere is the cleaned amusing animal superpowers dataset:\")\n",
    "print(animal_superpowers.head())\n"
   ]
  },
  {
   "cell_type": "code",
   "execution_count": null,
   "id": "9a12efe2",
   "metadata": {},
   "outputs": [],
   "source": []
  }
 ],
 "metadata": {
  "kernelspec": {
   "display_name": "Python 3 (ipykernel)",
   "language": "python",
   "name": "python3"
  },
  "language_info": {
   "codemirror_mode": {
    "name": "ipython",
    "version": 3
   },
   "file_extension": ".py",
   "mimetype": "text/x-python",
   "name": "python",
   "nbconvert_exporter": "python",
   "pygments_lexer": "ipython3",
   "version": "3.11.6"
  }
 },
 "nbformat": 4,
 "nbformat_minor": 5
}
